{
 "cells": [
  {
   "cell_type": "code",
   "execution_count": 1,
   "metadata": {},
   "outputs": [
    {
     "data": {
      "text/plain": [
       "'/Volumes/GoogleDrive/Shared drives/Lauren and Hilary/Regional Overland Flow Project/Data and Scripts/Regional-OF'"
      ]
     },
     "execution_count": 1,
     "metadata": {},
     "output_type": "execute_result"
    }
   ],
   "source": [
    "import os\n",
    "os.getcwd()"
   ]
  },
  {
   "cell_type": "code",
   "execution_count": 2,
   "metadata": {},
   "outputs": [],
   "source": [
    "import numpy as np\n",
    "import matplotlib.pyplot as plt\n",
    "import seaborn as sns"
   ]
  },
  {
   "cell_type": "code",
   "execution_count": 4,
   "metadata": {},
   "outputs": [],
   "source": [
    "os.chdir('../pysheds_trial/pysheds-master/')"
   ]
  },
  {
   "cell_type": "code",
   "execution_count": 5,
   "metadata": {},
   "outputs": [],
   "source": [
    "from pysheds.grid import Grid"
   ]
  },
  {
   "cell_type": "code",
   "execution_count": 9,
   "metadata": {},
   "outputs": [
    {
     "ename": "TypeError",
     "evalue": "`nodata` value not representable in dtype of array.",
     "output_type": "error",
     "traceback": [
      "\u001b[0;31m---------------------------------------------------------------------------\u001b[0m",
      "\u001b[0;31mAssertionError\u001b[0m                            Traceback (most recent call last)",
      "File \u001b[0;32m/Volumes/GoogleDrive/Shared drives/Lauren and Hilary/Regional Overland Flow Project/Data and Scripts/pysheds_trial/pysheds-master/pysheds/sview.py:87\u001b[0m, in \u001b[0;36mRaster.__new__\u001b[0;34m(cls, input_array, viewfinder, metadata)\u001b[0m\n\u001b[1;32m     86\u001b[0m \u001b[39mtry\u001b[39;00m:\n\u001b[0;32m---> 87\u001b[0m     \u001b[39massert\u001b[39;00m np\u001b[39m.\u001b[39mmin_scalar_type(viewfinder\u001b[39m.\u001b[39mnodata) \u001b[39m<\u001b[39m\u001b[39m=\u001b[39m obj\u001b[39m.\u001b[39mdtype\n\u001b[1;32m     88\u001b[0m \u001b[39mexcept\u001b[39;00m:\n",
      "\u001b[0;31mAssertionError\u001b[0m: ",
      "\nDuring handling of the above exception, another exception occurred:\n",
      "\u001b[0;31mTypeError\u001b[0m                                 Traceback (most recent call last)",
      "\u001b[1;32m/Volumes/GoogleDrive/Shared drives/Lauren and Hilary/Regional Overland Flow Project/Data and Scripts/Regional-OF/Delineate_Watersheds.ipynb Cell 5\u001b[0m in \u001b[0;36m<cell line: 1>\u001b[0;34m()\u001b[0m\n\u001b[0;32m----> <a href='vscode-notebook-cell:/Volumes/GoogleDrive/Shared%20drives/Lauren%20and%20Hilary/Regional%20Overland%20Flow%20Project/Data%20and%20Scripts/Regional-OF/Delineate_Watersheds.ipynb#W4sZmlsZQ%3D%3D?line=0'>1</a>\u001b[0m grid \u001b[39m=\u001b[39m Grid\u001b[39m.\u001b[39;49mfrom_raster(\u001b[39m'\u001b[39;49m\u001b[39m../hyd_na_dem_30s/hyd_na_dem_30s.tif\u001b[39;49m\u001b[39m'\u001b[39;49m, inherit_nodata \u001b[39m=\u001b[39;49m \u001b[39mTrue\u001b[39;49;00m)\n",
      "File \u001b[0;32m/Volumes/GoogleDrive/Shared drives/Lauren and Hilary/Regional Overland Flow Project/Data and Scripts/pysheds_trial/pysheds-master/pysheds/sgrid.py:424\u001b[0m, in \u001b[0;36msGrid.from_raster\u001b[0;34m(cls, data, **kwargs)\u001b[0m\n\u001b[1;32m    422\u001b[0m     \u001b[39mreturn\u001b[39;00m newinstance\n\u001b[1;32m    423\u001b[0m \u001b[39melif\u001b[39;00m \u001b[39misinstance\u001b[39m(data, \u001b[39mstr\u001b[39m):\n\u001b[0;32m--> 424\u001b[0m     data \u001b[39m=\u001b[39m newinstance\u001b[39m.\u001b[39;49mread_raster(data, \u001b[39m*\u001b[39;49m\u001b[39m*\u001b[39;49mkwargs)\n\u001b[1;32m    425\u001b[0m     newinstance\u001b[39m.\u001b[39mviewfinder \u001b[39m=\u001b[39m data\u001b[39m.\u001b[39mviewfinder\n\u001b[1;32m    426\u001b[0m     \u001b[39mreturn\u001b[39;00m newinstance\n",
      "File \u001b[0;32m/Volumes/GoogleDrive/Shared drives/Lauren and Hilary/Regional Overland Flow Project/Data and Scripts/pysheds_trial/pysheds-master/pysheds/sgrid.py:261\u001b[0m, in \u001b[0;36msGrid.read_raster\u001b[0;34m(self, data, band, window, window_crs, metadata, mask_geometry, **kwargs)\u001b[0m\n\u001b[1;32m    229\u001b[0m \u001b[39mdef\u001b[39;00m \u001b[39mread_raster\u001b[39m(\u001b[39mself\u001b[39m, data, band\u001b[39m=\u001b[39m\u001b[39m1\u001b[39m, window\u001b[39m=\u001b[39m\u001b[39mNone\u001b[39;00m, window_crs\u001b[39m=\u001b[39m\u001b[39mNone\u001b[39;00m,\n\u001b[1;32m    230\u001b[0m                 metadata\u001b[39m=\u001b[39m{}, mask_geometry\u001b[39m=\u001b[39m\u001b[39mFalse\u001b[39;00m, \u001b[39m*\u001b[39m\u001b[39m*\u001b[39mkwargs):\n\u001b[1;32m    231\u001b[0m     \u001b[39m\"\"\"\u001b[39;00m\n\u001b[1;32m    232\u001b[0m \u001b[39m    Reads data from a raster file and returns a Raster object.\u001b[39;00m\n\u001b[1;32m    233\u001b[0m \n\u001b[0;32m   (...)\u001b[0m\n\u001b[1;32m    259\u001b[0m \u001b[39m        Raster object containing loaded data.\u001b[39;00m\n\u001b[1;32m    260\u001b[0m \u001b[39m    \"\"\"\u001b[39;00m\n\u001b[0;32m--> 261\u001b[0m     \u001b[39mreturn\u001b[39;00m pysheds\u001b[39m.\u001b[39;49mio\u001b[39m.\u001b[39;49mread_raster(data\u001b[39m=\u001b[39;49mdata, band\u001b[39m=\u001b[39;49mband, window\u001b[39m=\u001b[39;49mwindow,\n\u001b[1;32m    262\u001b[0m                                   window_crs\u001b[39m=\u001b[39;49mwindow_crs, metadata\u001b[39m=\u001b[39;49mmetadata,\n\u001b[1;32m    263\u001b[0m                                   mask_geometry\u001b[39m=\u001b[39;49mmask_geometry, \u001b[39m*\u001b[39;49m\u001b[39m*\u001b[39;49mkwargs)\n",
      "File \u001b[0;32m/Volumes/GoogleDrive/Shared drives/Lauren and Hilary/Regional Overland Flow Project/Data and Scripts/pysheds_trial/pysheds-master/pysheds/io.py:148\u001b[0m, in \u001b[0;36mread_raster\u001b[0;34m(data, band, window, window_crs, mask_geometry, nodata, metadata, **kwargs)\u001b[0m\n\u001b[1;32m    146\u001b[0m             nodata \u001b[39m=\u001b[39m data\u001b[39m.\u001b[39mdtype\u001b[39m.\u001b[39mtype(nodata)\n\u001b[1;32m    147\u001b[0m viewfinder \u001b[39m=\u001b[39m ViewFinder(affine\u001b[39m=\u001b[39maffine, shape\u001b[39m=\u001b[39mshape, mask\u001b[39m=\u001b[39mmask, nodata\u001b[39m=\u001b[39mnodata, crs\u001b[39m=\u001b[39mcrs)\n\u001b[0;32m--> 148\u001b[0m out \u001b[39m=\u001b[39m Raster(data, viewfinder, metadata\u001b[39m=\u001b[39;49mmetadata)\n\u001b[1;32m    149\u001b[0m \u001b[39mreturn\u001b[39;00m out\n",
      "File \u001b[0;32m/Volumes/GoogleDrive/Shared drives/Lauren and Hilary/Regional Overland Flow Project/Data and Scripts/pysheds_trial/pysheds-master/pysheds/sview.py:89\u001b[0m, in \u001b[0;36mRaster.__new__\u001b[0;34m(cls, input_array, viewfinder, metadata)\u001b[0m\n\u001b[1;32m     87\u001b[0m     \u001b[39massert\u001b[39;00m np\u001b[39m.\u001b[39mmin_scalar_type(viewfinder\u001b[39m.\u001b[39mnodata) \u001b[39m<\u001b[39m\u001b[39m=\u001b[39m obj\u001b[39m.\u001b[39mdtype\n\u001b[1;32m     88\u001b[0m \u001b[39mexcept\u001b[39;00m:\n\u001b[0;32m---> 89\u001b[0m     \u001b[39mraise\u001b[39;00m \u001b[39mTypeError\u001b[39;00m(\u001b[39m'\u001b[39m\u001b[39m`nodata` value not representable in dtype of array.\u001b[39m\u001b[39m'\u001b[39m)\n\u001b[1;32m     90\u001b[0m \u001b[39m# Don't allow original viewfinder and metadata to be modified\u001b[39;00m\n\u001b[1;32m     91\u001b[0m viewfinder \u001b[39m=\u001b[39m viewfinder\u001b[39m.\u001b[39mcopy()\n",
      "\u001b[0;31mTypeError\u001b[0m: `nodata` value not representable in dtype of array."
     ]
    }
   ],
   "source": [
    "grid = Grid.from_raster('../hyd_na_dem_30s/hyd_na_dem_30s.tif')"
   ]
  },
  {
   "cell_type": "code",
   "execution_count": null,
   "metadata": {},
   "outputs": [],
   "source": []
  }
 ],
 "metadata": {
  "kernelspec": {
   "display_name": "thesis",
   "language": "python",
   "name": "python3"
  },
  "language_info": {
   "codemirror_mode": {
    "name": "ipython",
    "version": 3
   },
   "file_extension": ".py",
   "mimetype": "text/x-python",
   "name": "python",
   "nbconvert_exporter": "python",
   "pygments_lexer": "ipython3",
   "version": "3.9.12"
  },
  "orig_nbformat": 4,
  "vscode": {
   "interpreter": {
    "hash": "53b699a600abcd06e5466ba47cc232e8881c7b169992924183d2865033f675ff"
   }
  }
 },
 "nbformat": 4,
 "nbformat_minor": 2
}
